{
 "cells": [
  {
   "cell_type": "code",
   "execution_count": 1,
   "metadata": {},
   "outputs": [
    {
     "data": {
      "text/plain": [
       "Templates configuration\n",
       "-----------------------\n",
       "    Default template: 'plotly'\n",
       "    Available templates:\n",
       "        ['ggplot2', 'seaborn', 'simple_white', 'plotly',\n",
       "         'plotly_white', 'plotly_dark', 'presentation', 'xgridoff',\n",
       "         'ygridoff', 'gridon', 'none']"
      ]
     },
     "execution_count": 1,
     "metadata": {},
     "output_type": "execute_result"
    }
   ],
   "source": [
    "import numpy as np\n",
    "import pandas as pd\n",
    "import seaborn as sns\n",
    "from sklearn.model_selection import train_test_split\n",
    "import seaborn as sns\n",
    "import matplotlib.pyplot as plt\n",
    "import plotly.graph_objects as go\n",
    "import plotly\n",
    "import plotly.express as px\n",
    "import plotly.io as pio\n",
    "from SRC.f_datavis import *\n",
    "pio.templates"
   ]
  },
  {
   "cell_type": "code",
   "execution_count": 2,
   "metadata": {},
   "outputs": [],
   "source": [
    "df = pd.read_csv(\"__thoughts__/workingdf.csv\", index_col=0)"
   ]
  },
  {
   "cell_type": "code",
   "execution_count": 3,
   "metadata": {},
   "outputs": [],
   "source": [
    "Vis = pd.read_csv(\"__thoughts__/tableau.csv\", index_col=0)"
   ]
  },
  {
   "cell_type": "code",
   "execution_count": 11,
   "metadata": {},
   "outputs": [],
   "source": [
    "counts_fav = pd.read_csv(\"__thoughts__/globalcontext.csv\", index_col=0)\n",
    "counts_fav[\"1_Indiv_2_Collect\"] = counts_fav[\"level_1\"].astype(str)\n"
   ]
  },
  {
   "cell_type": "code",
   "execution_count": 12,
   "metadata": {},
   "outputs": [
    {
     "data": {
      "text/html": [
       "<div>\n",
       "<style scoped>\n",
       "    .dataframe tbody tr th:only-of-type {\n",
       "        vertical-align: middle;\n",
       "    }\n",
       "\n",
       "    .dataframe tbody tr th {\n",
       "        vertical-align: top;\n",
       "    }\n",
       "\n",
       "    .dataframe thead th {\n",
       "        text-align: right;\n",
       "    }\n",
       "</style>\n",
       "<table border=\"1\" class=\"dataframe\">\n",
       "  <thead>\n",
       "    <tr style=\"text-align: right;\">\n",
       "      <th></th>\n",
       "      <th>level_0</th>\n",
       "      <th>level_1</th>\n",
       "      <th>R_02GURxsvBYFL0JP</th>\n",
       "      <th>R_0Pp1qMTY5sGydZD</th>\n",
       "      <th>R_0cTMVLl2Aak0H3b</th>\n",
       "      <th>R_0e5drZXdrdA2tWx</th>\n",
       "      <th>R_10A9ooLg1HERT1P</th>\n",
       "      <th>R_10AgtEvQI7250Ms</th>\n",
       "      <th>R_125bBnV8VkUzxsm</th>\n",
       "      <th>R_12EcUYF3DZv51jg</th>\n",
       "      <th>...</th>\n",
       "      <th>R_yF6VfxPPvOlj76F</th>\n",
       "      <th>R_yKZsRtSNKtWOETf</th>\n",
       "      <th>R_ymgDPC7gV40sgCt</th>\n",
       "      <th>R_yrPPqKqEv9gkUvf</th>\n",
       "      <th>R_yrTtVJt0HYFg8RH</th>\n",
       "      <th>R_yw5DUK47buTIsLf</th>\n",
       "      <th>R_zSAkObXmHPJJ0Yx</th>\n",
       "      <th>R_zcbMVqRYqJ873dn</th>\n",
       "      <th>How_many</th>\n",
       "      <th>1_Indiv_2_Collect</th>\n",
       "    </tr>\n",
       "  </thead>\n",
       "  <tbody>\n",
       "    <tr>\n",
       "      <th>0</th>\n",
       "      <td>Small-scale_NEUTRAL</td>\n",
       "      <td>1</td>\n",
       "      <td>0.0</td>\n",
       "      <td>0.0</td>\n",
       "      <td>0.0</td>\n",
       "      <td>0.0</td>\n",
       "      <td>0.0</td>\n",
       "      <td>0.0</td>\n",
       "      <td>1.0</td>\n",
       "      <td>0.0</td>\n",
       "      <td>...</td>\n",
       "      <td>0.0</td>\n",
       "      <td>0.0</td>\n",
       "      <td>0.0</td>\n",
       "      <td>0.0</td>\n",
       "      <td>0.0</td>\n",
       "      <td>0.0</td>\n",
       "      <td>1.0</td>\n",
       "      <td>0.0</td>\n",
       "      <td>107</td>\n",
       "      <td>1</td>\n",
       "    </tr>\n",
       "    <tr>\n",
       "      <th>1</th>\n",
       "      <td>Small-scale_NEUTRAL</td>\n",
       "      <td>2</td>\n",
       "      <td>1.0</td>\n",
       "      <td>1.0</td>\n",
       "      <td>1.0</td>\n",
       "      <td>1.0</td>\n",
       "      <td>1.0</td>\n",
       "      <td>1.0</td>\n",
       "      <td>0.0</td>\n",
       "      <td>1.0</td>\n",
       "      <td>...</td>\n",
       "      <td>1.0</td>\n",
       "      <td>1.0</td>\n",
       "      <td>1.0</td>\n",
       "      <td>1.0</td>\n",
       "      <td>1.0</td>\n",
       "      <td>1.0</td>\n",
       "      <td>0.0</td>\n",
       "      <td>1.0</td>\n",
       "      <td>435</td>\n",
       "      <td>2</td>\n",
       "    </tr>\n",
       "    <tr>\n",
       "      <th>2</th>\n",
       "      <td>Large-scale_NEUTRAL</td>\n",
       "      <td>1</td>\n",
       "      <td>0.0</td>\n",
       "      <td>0.0</td>\n",
       "      <td>1.0</td>\n",
       "      <td>0.0</td>\n",
       "      <td>0.0</td>\n",
       "      <td>0.0</td>\n",
       "      <td>0.0</td>\n",
       "      <td>0.0</td>\n",
       "      <td>...</td>\n",
       "      <td>0.0</td>\n",
       "      <td>0.0</td>\n",
       "      <td>0.0</td>\n",
       "      <td>0.0</td>\n",
       "      <td>0.0</td>\n",
       "      <td>0.0</td>\n",
       "      <td>0.0</td>\n",
       "      <td>0.0</td>\n",
       "      <td>49</td>\n",
       "      <td>1</td>\n",
       "    </tr>\n",
       "    <tr>\n",
       "      <th>3</th>\n",
       "      <td>Large-scale_NEUTRAL</td>\n",
       "      <td>2</td>\n",
       "      <td>1.0</td>\n",
       "      <td>1.0</td>\n",
       "      <td>0.0</td>\n",
       "      <td>1.0</td>\n",
       "      <td>1.0</td>\n",
       "      <td>1.0</td>\n",
       "      <td>1.0</td>\n",
       "      <td>1.0</td>\n",
       "      <td>...</td>\n",
       "      <td>1.0</td>\n",
       "      <td>1.0</td>\n",
       "      <td>1.0</td>\n",
       "      <td>1.0</td>\n",
       "      <td>1.0</td>\n",
       "      <td>1.0</td>\n",
       "      <td>1.0</td>\n",
       "      <td>1.0</td>\n",
       "      <td>493</td>\n",
       "      <td>2</td>\n",
       "    </tr>\n",
       "    <tr>\n",
       "      <th>4</th>\n",
       "      <td>Small-scale_COVID19</td>\n",
       "      <td>1</td>\n",
       "      <td>0.0</td>\n",
       "      <td>0.0</td>\n",
       "      <td>0.0</td>\n",
       "      <td>1.0</td>\n",
       "      <td>0.0</td>\n",
       "      <td>0.0</td>\n",
       "      <td>1.0</td>\n",
       "      <td>0.0</td>\n",
       "      <td>...</td>\n",
       "      <td>0.0</td>\n",
       "      <td>1.0</td>\n",
       "      <td>0.0</td>\n",
       "      <td>0.0</td>\n",
       "      <td>0.0</td>\n",
       "      <td>0.0</td>\n",
       "      <td>0.0</td>\n",
       "      <td>0.0</td>\n",
       "      <td>107</td>\n",
       "      <td>1</td>\n",
       "    </tr>\n",
       "    <tr>\n",
       "      <th>5</th>\n",
       "      <td>Small-scale_COVID19</td>\n",
       "      <td>2</td>\n",
       "      <td>1.0</td>\n",
       "      <td>1.0</td>\n",
       "      <td>1.0</td>\n",
       "      <td>0.0</td>\n",
       "      <td>1.0</td>\n",
       "      <td>1.0</td>\n",
       "      <td>0.0</td>\n",
       "      <td>1.0</td>\n",
       "      <td>...</td>\n",
       "      <td>1.0</td>\n",
       "      <td>0.0</td>\n",
       "      <td>1.0</td>\n",
       "      <td>1.0</td>\n",
       "      <td>1.0</td>\n",
       "      <td>1.0</td>\n",
       "      <td>1.0</td>\n",
       "      <td>1.0</td>\n",
       "      <td>435</td>\n",
       "      <td>2</td>\n",
       "    </tr>\n",
       "    <tr>\n",
       "      <th>6</th>\n",
       "      <td>Large-scale_COVID19</td>\n",
       "      <td>1</td>\n",
       "      <td>0.0</td>\n",
       "      <td>0.0</td>\n",
       "      <td>1.0</td>\n",
       "      <td>1.0</td>\n",
       "      <td>0.0</td>\n",
       "      <td>0.0</td>\n",
       "      <td>0.0</td>\n",
       "      <td>0.0</td>\n",
       "      <td>...</td>\n",
       "      <td>0.0</td>\n",
       "      <td>0.0</td>\n",
       "      <td>1.0</td>\n",
       "      <td>0.0</td>\n",
       "      <td>0.0</td>\n",
       "      <td>1.0</td>\n",
       "      <td>1.0</td>\n",
       "      <td>0.0</td>\n",
       "      <td>283</td>\n",
       "      <td>1</td>\n",
       "    </tr>\n",
       "    <tr>\n",
       "      <th>7</th>\n",
       "      <td>Large-scale_COVID19</td>\n",
       "      <td>2</td>\n",
       "      <td>1.0</td>\n",
       "      <td>1.0</td>\n",
       "      <td>0.0</td>\n",
       "      <td>0.0</td>\n",
       "      <td>1.0</td>\n",
       "      <td>1.0</td>\n",
       "      <td>1.0</td>\n",
       "      <td>1.0</td>\n",
       "      <td>...</td>\n",
       "      <td>1.0</td>\n",
       "      <td>1.0</td>\n",
       "      <td>0.0</td>\n",
       "      <td>1.0</td>\n",
       "      <td>1.0</td>\n",
       "      <td>0.0</td>\n",
       "      <td>0.0</td>\n",
       "      <td>1.0</td>\n",
       "      <td>259</td>\n",
       "      <td>2</td>\n",
       "    </tr>\n",
       "  </tbody>\n",
       "</table>\n",
       "<p>8 rows × 546 columns</p>\n",
       "</div>"
      ],
      "text/plain": [
       "               level_0  level_1  R_02GURxsvBYFL0JP  R_0Pp1qMTY5sGydZD  \\\n",
       "0  Small-scale_NEUTRAL        1                0.0                0.0   \n",
       "1  Small-scale_NEUTRAL        2                1.0                1.0   \n",
       "2  Large-scale_NEUTRAL        1                0.0                0.0   \n",
       "3  Large-scale_NEUTRAL        2                1.0                1.0   \n",
       "4  Small-scale_COVID19        1                0.0                0.0   \n",
       "5  Small-scale_COVID19        2                1.0                1.0   \n",
       "6  Large-scale_COVID19        1                0.0                0.0   \n",
       "7  Large-scale_COVID19        2                1.0                1.0   \n",
       "\n",
       "   R_0cTMVLl2Aak0H3b  R_0e5drZXdrdA2tWx  R_10A9ooLg1HERT1P  R_10AgtEvQI7250Ms  \\\n",
       "0                0.0                0.0                0.0                0.0   \n",
       "1                1.0                1.0                1.0                1.0   \n",
       "2                1.0                0.0                0.0                0.0   \n",
       "3                0.0                1.0                1.0                1.0   \n",
       "4                0.0                1.0                0.0                0.0   \n",
       "5                1.0                0.0                1.0                1.0   \n",
       "6                1.0                1.0                0.0                0.0   \n",
       "7                0.0                0.0                1.0                1.0   \n",
       "\n",
       "   R_125bBnV8VkUzxsm  R_12EcUYF3DZv51jg  ...  R_yF6VfxPPvOlj76F  \\\n",
       "0                1.0                0.0  ...                0.0   \n",
       "1                0.0                1.0  ...                1.0   \n",
       "2                0.0                0.0  ...                0.0   \n",
       "3                1.0                1.0  ...                1.0   \n",
       "4                1.0                0.0  ...                0.0   \n",
       "5                0.0                1.0  ...                1.0   \n",
       "6                0.0                0.0  ...                0.0   \n",
       "7                1.0                1.0  ...                1.0   \n",
       "\n",
       "   R_yKZsRtSNKtWOETf  R_ymgDPC7gV40sgCt  R_yrPPqKqEv9gkUvf  R_yrTtVJt0HYFg8RH  \\\n",
       "0                0.0                0.0                0.0                0.0   \n",
       "1                1.0                1.0                1.0                1.0   \n",
       "2                0.0                0.0                0.0                0.0   \n",
       "3                1.0                1.0                1.0                1.0   \n",
       "4                1.0                0.0                0.0                0.0   \n",
       "5                0.0                1.0                1.0                1.0   \n",
       "6                0.0                1.0                0.0                0.0   \n",
       "7                1.0                0.0                1.0                1.0   \n",
       "\n",
       "   R_yw5DUK47buTIsLf  R_zSAkObXmHPJJ0Yx  R_zcbMVqRYqJ873dn  How_many  \\\n",
       "0                0.0                1.0                0.0       107   \n",
       "1                1.0                0.0                1.0       435   \n",
       "2                0.0                0.0                0.0        49   \n",
       "3                1.0                1.0                1.0       493   \n",
       "4                0.0                0.0                0.0       107   \n",
       "5                1.0                1.0                1.0       435   \n",
       "6                1.0                1.0                0.0       283   \n",
       "7                0.0                0.0                1.0       259   \n",
       "\n",
       "   1_Indiv_2_Collect  \n",
       "0                  1  \n",
       "1                  2  \n",
       "2                  1  \n",
       "3                  2  \n",
       "4                  1  \n",
       "5                  2  \n",
       "6                  1  \n",
       "7                  2  \n",
       "\n",
       "[8 rows x 546 columns]"
      ]
     },
     "execution_count": 12,
     "metadata": {},
     "output_type": "execute_result"
    }
   ],
   "source": [
    "counts_fav"
   ]
  },
  {
   "cell_type": "code",
   "execution_count": 13,
   "metadata": {},
   "outputs": [
    {
     "data": {
      "application/vnd.plotly.v1+json": {
       "config": {
        "plotlyServerURL": "https://plot.ly"
       },
       "data": [
        {
         "alignmentgroup": "True",
         "hovertemplate": "1_Indiv_2_Collect=1<br>CONTEXT=%{x}<br>Collectivistic/invidualistic=%{y}<extra></extra>",
         "legendgroup": "1",
         "marker": {
          "color": "#1F77B4",
          "opacity": 0.5
         },
         "name": "1",
         "offsetgroup": "1",
         "orientation": "v",
         "showlegend": true,
         "textposition": "auto",
         "type": "bar",
         "x": [
          "Small-scale_NEUTRAL",
          "Large-scale_NEUTRAL",
          "Small-scale_COVID19",
          "Large-scale_COVID19"
         ],
         "xaxis": "x",
         "y": [
          107,
          49,
          107,
          283
         ],
         "yaxis": "y"
        },
        {
         "alignmentgroup": "True",
         "hovertemplate": "1_Indiv_2_Collect=2<br>CONTEXT=%{x}<br>Collectivistic/invidualistic=%{y}<extra></extra>",
         "legendgroup": "2",
         "marker": {
          "color": "#FF7F0E",
          "opacity": 0.5
         },
         "name": "2",
         "offsetgroup": "2",
         "orientation": "v",
         "showlegend": true,
         "textposition": "auto",
         "type": "bar",
         "x": [
          "Small-scale_NEUTRAL",
          "Large-scale_NEUTRAL",
          "Small-scale_COVID19",
          "Large-scale_COVID19"
         ],
         "xaxis": "x",
         "y": [
          435,
          493,
          435,
          259
         ],
         "yaxis": "y"
        }
       ],
       "layout": {
        "barmode": "relative",
        "legend": {
         "title": {
          "text": "1_Indiv_2_Collect"
         },
         "tracegroupgap": 0
        },
        "template": {
         "data": {
          "pie": [
           {
            "automargin": true,
            "type": "pie"
           }
          ]
         },
         "layout": {
          "xaxis": {
           "showgrid": true,
           "title": {
            "standoff": 15
           }
          },
          "yaxis": {
           "showgrid": true,
           "title": {
            "standoff": 15
           }
          }
         }
        },
        "title": {
         "text": "Situation Exposed and type of response"
        },
        "xaxis": {
         "anchor": "y",
         "domain": [
          0,
          1
         ],
         "title": {
          "text": "CONTEXT"
         }
        },
        "yaxis": {
         "anchor": "x",
         "domain": [
          0,
          1
         ],
         "title": {
          "text": "Collectivistic/invidualistic"
         }
        }
       }
      },
      "text/html": [
       "<div>\n",
       "        \n",
       "        \n",
       "            <div id=\"5965147e-180e-454a-a1af-cb14f7f042bc\" class=\"plotly-graph-div\" style=\"height:525px; width:100%;\"></div>\n",
       "            <script type=\"text/javascript\">\n",
       "                require([\"plotly\"], function(Plotly) {\n",
       "                    window.PLOTLYENV=window.PLOTLYENV || {};\n",
       "                    \n",
       "                if (document.getElementById(\"5965147e-180e-454a-a1af-cb14f7f042bc\")) {\n",
       "                    Plotly.newPlot(\n",
       "                        '5965147e-180e-454a-a1af-cb14f7f042bc',\n",
       "                        [{\"alignmentgroup\": \"True\", \"hovertemplate\": \"1_Indiv_2_Collect=1<br>CONTEXT=%{x}<br>Collectivistic/invidualistic=%{y}<extra></extra>\", \"legendgroup\": \"1\", \"marker\": {\"color\": \"#1F77B4\", \"opacity\": 0.5}, \"name\": \"1\", \"offsetgroup\": \"1\", \"orientation\": \"v\", \"showlegend\": true, \"textposition\": \"auto\", \"type\": \"bar\", \"x\": [\"Small-scale_NEUTRAL\", \"Large-scale_NEUTRAL\", \"Small-scale_COVID19\", \"Large-scale_COVID19\"], \"xaxis\": \"x\", \"y\": [107, 49, 107, 283], \"yaxis\": \"y\"}, {\"alignmentgroup\": \"True\", \"hovertemplate\": \"1_Indiv_2_Collect=2<br>CONTEXT=%{x}<br>Collectivistic/invidualistic=%{y}<extra></extra>\", \"legendgroup\": \"2\", \"marker\": {\"color\": \"#FF7F0E\", \"opacity\": 0.5}, \"name\": \"2\", \"offsetgroup\": \"2\", \"orientation\": \"v\", \"showlegend\": true, \"textposition\": \"auto\", \"type\": \"bar\", \"x\": [\"Small-scale_NEUTRAL\", \"Large-scale_NEUTRAL\", \"Small-scale_COVID19\", \"Large-scale_COVID19\"], \"xaxis\": \"x\", \"y\": [435, 493, 435, 259], \"yaxis\": \"y\"}],\n",
       "                        {\"barmode\": \"relative\", \"legend\": {\"title\": {\"text\": \"1_Indiv_2_Collect\"}, \"tracegroupgap\": 0}, \"template\": {\"data\": {\"pie\": [{\"automargin\": true, \"type\": \"pie\"}]}, \"layout\": {\"xaxis\": {\"showgrid\": true, \"title\": {\"standoff\": 15}}, \"yaxis\": {\"showgrid\": true, \"title\": {\"standoff\": 15}}}}, \"title\": {\"text\": \"Situation Exposed and type of response\"}, \"xaxis\": {\"anchor\": \"y\", \"domain\": [0.0, 1.0], \"title\": {\"text\": \"CONTEXT\"}}, \"yaxis\": {\"anchor\": \"x\", \"domain\": [0.0, 1.0], \"title\": {\"text\": \"Collectivistic/invidualistic\"}}},\n",
       "                        {\"responsive\": true}\n",
       "                    ).then(function(){\n",
       "                            \n",
       "var gd = document.getElementById('5965147e-180e-454a-a1af-cb14f7f042bc');\n",
       "var x = new MutationObserver(function (mutations, observer) {{\n",
       "        var display = window.getComputedStyle(gd).display;\n",
       "        if (!display || display === 'none') {{\n",
       "            console.log([gd, 'removed!']);\n",
       "            Plotly.purge(gd);\n",
       "            observer.disconnect();\n",
       "        }}\n",
       "}});\n",
       "\n",
       "// Listen for the removal of the full notebook cells\n",
       "var notebookContainer = gd.closest('#notebook-container');\n",
       "if (notebookContainer) {{\n",
       "    x.observe(notebookContainer, {childList: true});\n",
       "}}\n",
       "\n",
       "// Listen for the clearing of the current output cell\n",
       "var outputEl = gd.closest('.output');\n",
       "if (outputEl) {{\n",
       "    x.observe(outputEl, {childList: true});\n",
       "}}\n",
       "\n",
       "                        })\n",
       "                };\n",
       "                });\n",
       "            </script>\n",
       "        </div>"
      ]
     },
     "metadata": {},
     "output_type": "display_data"
    }
   ],
   "source": [
    "\n",
    "fig = px.bar(counts_fav, x=\"level_0\", y=\"How_many\",color= \"1_Indiv_2_Collect\", template = \"gridon\",opacity = 0.5, \n",
    "             labels={\n",
    "                     \"How_many\": \"Collectivistic/invidualistic\",\n",
    "                     \"level_0\": \"CONTEXT\"\n",
    "                     \n",
    "                 },\n",
    "             title = \"Situation Exposed and type of response\")\n",
    "fig.show()"
   ]
  },
  {
   "cell_type": "code",
   "execution_count": null,
   "metadata": {},
   "outputs": [],
   "source": []
  }
 ],
 "metadata": {
  "kernelspec": {
   "display_name": "Python 3",
   "language": "python",
   "name": "python3"
  },
  "language_info": {
   "codemirror_mode": {
    "name": "ipython",
    "version": 3
   },
   "file_extension": ".py",
   "mimetype": "text/x-python",
   "name": "python",
   "nbconvert_exporter": "python",
   "pygments_lexer": "ipython3",
   "version": "3.8.2"
  }
 },
 "nbformat": 4,
 "nbformat_minor": 4
}
